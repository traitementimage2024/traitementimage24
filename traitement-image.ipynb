{
  "nbformat": 4,
  "nbformat_minor": 0,
  "metadata": {
    "colab": {
      "provenance": [],
      "collapsed_sections": [
        "ZPSJXfdZPS4P",
        "W6D_z9MjRPtc"
      ],
      "include_colab_link": true
    },
    "kernelspec": {
      "name": "python3",
      "display_name": "Python 3"
    },
    "language_info": {
      "name": "python"
    }
  },
  "cells": [
    {
      "cell_type": "markdown",
      "metadata": {
        "id": "view-in-github",
        "colab_type": "text"
      },
      "source": [
        "<a href=\"https://colab.research.google.com/github/traitementimage2024/traitementimage24/blob/main/traitement-image.ipynb\" target=\"_parent\"><img src=\"https://colab.research.google.com/assets/colab-badge.svg\" alt=\"Open In Colab\"/></a>"
      ]
    },
    {
      "cell_type": "code",
      "source": [
        "import cv2\n",
        "import numpy as np\n",
        "import os\n",
        "import matplotlib.pyplot as plt\n",
        "from scipy.ndimage import label\n",
        "from skimage.measure import regionprops\n",
        "\n",
        "\n",
        "!git clone https://github.com/traitementimage2024/traitementimage24.git\n",
        "! unzip /content/traitementimage24/traitement-image-20241231T163656Z-001.zip\n",
        "#notebooks also are not fond of imshow, so I'll use a patch for notebook support.\n",
        "from google.colab.patches import cv2_imshow\n",
        "\n",
        "\n",
        "# Chemins des dossiers contenant les images\n",
        "folder_with_bouchons = \"/content/traitement-imageavec_bouchons\"\n",
        "folder_without_bouchons = \"/content/traitement-imagesans_bouchons\"\n",
        "folder_deformed = \"/content/traitement-image/deforme\"\n",
        "folder_not_deformed = \"/content/traitement-image/pas_deforme\"\n",
        "folder_other = \"/content/traitement-image/bouteilles_manquante\"\n",
        "\n",
        "# Path to all the bottles\n",
        "folder_path = \"/content/traitement-image/bottleimage\"\n"
      ],
      "metadata": {
        "id": "WT21Iv4RO6OY",
        "colab": {
          "base_uri": "https://localhost:8080/"
        },
        "outputId": "23729122-7322-4dfc-c2eb-062a54229032"
      },
      "execution_count": 7,
      "outputs": [
        {
          "output_type": "stream",
          "name": "stdout",
          "text": [
            "fatal: destination path 'traitementimage24' already exists and is not an empty directory.\n",
            "Archive:  /content/traitementimage24/traitement-image-20241231T163656Z-001.zip\n",
            "replace traitement-image/deforme/image137.jpg? [y]es, [n]o, [A]ll, [N]one, [r]ename: "
          ]
        }
      ]
    },
    {
      "cell_type": "markdown",
      "source": [
        "#Reconaissance de bouchon\n",
        "\n",
        "Pour faire la détection de bouchons, on commence par recadrer l'image pour uniquement inclure la partie qui devrait contenir le bouchon.\n",
        "\n",
        "En suite, l'image est convertie en niveaux de gris, puis binarizée.\n",
        "\n",
        "À partir de cette image binarizée, on compte le pourcentage de pixels noirs. Celui-ci permet de déterminer si la bouteille est présente, si le bouchon est manquant ou si il est présent."
      ],
      "metadata": {
        "id": "ZPSJXfdZPS4P"
      }
    },
    {
      "cell_type": "code",
      "source": [
        "def CheckCapMissing(image):\n",
        "\n",
        "    # Put in grayscale\n",
        "    image_gray = cv2.cvtColor(image, cv2.COLOR_BGR2GRAY)\n",
        "\n",
        "    # cv2.imshow(\"image grayscaled\",image_gray)\n",
        "    # cv2.waitKey(0)\n",
        "    # cv2.destroyAllWindows()\n",
        "\n",
        "    # Determination and crop the region of interest\n",
        "    x1, y1 = 125, 0  # Left-up corner\n",
        "    x2, y2 = 250, 63 # Right-down corner\n",
        "\n",
        "    cropped_image = image_gray[y1:y2, x1:x2]\n",
        "\n",
        "    #cv2.imshow(\"Image rognee\",cropped_image)\n",
        "    #cv2.waitKey(0)\n",
        "    #cv2.destroyAllWindows()\n",
        "\n",
        "    # Binarize the image with threshold in the middle\n",
        "    seuil = 180  # Valeur de seuil (entre 0 et 255)\n",
        "    _, image_binaire = cv2.threshold(cropped_image, seuil, 255, cv2.THRESH_BINARY)\n",
        "\n",
        "    # cv2.imshow(\"Image binaire\",image_binaire)\n",
        "    cv2_imshow(image_binaire) # make imshow notebook friendly\n",
        "    cv2.waitKey(0)\n",
        "    cv2.destroyAllWindows()\n",
        "\n",
        "    #calculate the percentage\n",
        "    total_pixels = image_binaire.size\n",
        "    black_pixels = np.sum(image_binaire == 0)\n",
        "\n",
        "    # Calcul du pourcentage\n",
        "    percentage_black = (black_pixels / total_pixels) * 100\n",
        "    print(percentage_black)\n",
        "\n",
        "    if percentage_black <= 10:\n",
        "        return 0    # No bottle\n",
        "    elif (10 < percentage_black < 35):\n",
        "        return 1    # Cap missing\n",
        "    else:\n",
        "        return 2    # Cap present"
      ],
      "metadata": {
        "id": "Xh-nN2xfO_sl"
      },
      "execution_count": 2,
      "outputs": []
    },
    {
      "cell_type": "markdown",
      "source": [
        "---\n",
        "# Détermination des seuils\n",
        "\n",
        "Pour référence, le code suivant a servi à établir les seuils de la fonction présentée ci-dessus."
      ],
      "metadata": {
        "id": "W6D_z9MjRPtc"
      }
    },
    {
      "cell_type": "code",
      "source": [
        "\n",
        "def calculate_black_pixel_percentage(folder_path):\n",
        "    \"\"\"\n",
        "    Calcule le pourcentage de pixels noirs pour toutes les images dans un dossier donné.\n",
        "\n",
        "    Args:\n",
        "        folder_path (str): Chemin vers le dossier contenant les images.\n",
        "\n",
        "    Returns:\n",
        "        list: Liste des noms des images.\n",
        "        list: Liste des indices des images.\n",
        "        list: Liste des pourcentages de pixels noirs.\n",
        "    \"\"\"\n",
        "    if not os.path.exists(folder_path):\n",
        "        print(f\"Erreur : Le dossier {folder_path} n'existe pas.\")\n",
        "        return [], [], []\n",
        "\n",
        "    # Liste des fichiers dans le dossier\n",
        "    images = [f for f in os.listdir(folder_path) if f.endswith(('.jpg', '.png', '.jpeg'))]\n",
        "\n",
        "    if not images:\n",
        "        print(f\"Aucune image trouvée dans le dossier {folder_path}.\")\n",
        "        return [], [], []\n",
        "\n",
        "    image_names = []\n",
        "    indices = []\n",
        "    percentages = []\n",
        "\n",
        "    for idx, image_name in enumerate(images):\n",
        "        image_path = os.path.join(folder_path, image_name)\n",
        "\n",
        "        # Charger l'image\n",
        "        image = cv2.imread(image_path)\n",
        "        if image is None:\n",
        "            print(f\"Erreur : Impossible de charger l'image {image_name}.\")\n",
        "            continue\n",
        "\n",
        "        # Mettre en niveaux de gris\n",
        "        image_gray = cv2.cvtColor(image, cv2.COLOR_BGR2GRAY)\n",
        "\n",
        "        # Rogner l'image (adapter si nécessaire)\n",
        "        x1, y1 = 125, 0  # Left-up corner\n",
        "        x2, y2 = 250, 63  # Right-down corner\n",
        "        cropped_image = image_gray[y1:y2, x1:x2]\n",
        "        cropped_image = cv2.medianBlur(cropped_image, 5)\n",
        "\n",
        "        # Binariser l'image\n",
        "        seuil = 180\n",
        "        _, image_binaire = cv2.threshold(cropped_image, seuil, 255, cv2.THRESH_BINARY)\n",
        "\n",
        "        # Calculer le pourcentage de pixels noirs\n",
        "        total_pixels = image_binaire.size\n",
        "        black_pixels = np.sum(image_binaire == 0)\n",
        "        percentage_black = (black_pixels / total_pixels) * 100\n",
        "\n",
        "        # Stocker les résultats\n",
        "        image_names.append(image_name)\n",
        "        indices.append(idx)\n",
        "        percentages.append(percentage_black)\n",
        "\n",
        "    return image_names, indices, percentages\n",
        "\n",
        "\n",
        "# Calculer les pourcentages pour les trois dossiers\n",
        "names_with, indices_with, percentages_with = calculate_black_pixel_percentage(folder_with_bouchons)\n",
        "names_without, indices_without, percentages_without = calculate_black_pixel_percentage(folder_without_bouchons)\n",
        "names_other, indices_other, percentages_other = calculate_black_pixel_percentage(folder_other)\n",
        "\n",
        "# Afficher les noms et pourcentages dans la console\n",
        "print(\"Avec bouchons :\")\n",
        "for name, percentage in zip(names_with, percentages_with):\n",
        "    print(f\"{name}: {percentage:.2f}%\")\n",
        "\n",
        "print(\"\\nSans bouchons :\")\n",
        "for name, percentage in zip(names_without, percentages_without):\n",
        "    print(f\"{name}: {percentage:.2f}%\")\n",
        "\n",
        "print(\"\\nAutre :\")\n",
        "for name, percentage in zip(names_other, percentages_other):\n",
        "    print(f\"{name}: {percentage:.2f}%\")\n",
        "\n",
        "# Créer les graphiques\n",
        "plt.figure(figsize=(12, 8))\n",
        "\n",
        "# Avec bouchons\n",
        "plt.scatter(indices_with, percentages_with, color='blue', label='Avec bouchons', alpha=0.75)\n",
        "\n",
        "# Sans bouchons\n",
        "plt.scatter(indices_without, percentages_without, color='orange', label='Sans bouchons', alpha=0.75)\n",
        "\n",
        "# Autre\n",
        "plt.scatter(indices_other, percentages_other, color='green', label='Pas de bouteilles', alpha=0.75)\n",
        "\n",
        "# Personnalisation du graphique\n",
        "plt.xlabel('Index des images')\n",
        "plt.ylabel('Pourcentage de pixels noirs (%)')\n",
        "plt.title('Comparaison des pourcentages de pixels noirs (Avec, Sans Bouchons et Autre)')\n",
        "plt.legend()\n",
        "plt.grid(True)\n",
        "plt.tight_layout()\n",
        "\n",
        "# Afficher le graphique\n",
        "plt.show()"
      ],
      "metadata": {
        "id": "4LdFdAv5RCPx",
        "colab": {
          "base_uri": "https://localhost:8080/",
          "height": 0
        },
        "outputId": "4b3e9e9f-7ec6-433c-f29b-a1535924999f"
      },
      "execution_count": 3,
      "outputs": [
        {
          "output_type": "stream",
          "name": "stdout",
          "text": [
            "Erreur : Le dossier /content/traitement-imageavec_bouchons n'existe pas.\n",
            "Erreur : Le dossier /content/traitement-imagesans_bouchons n'existe pas.\n",
            "Avec bouchons :\n",
            "\n",
            "Sans bouchons :\n",
            "\n",
            "Autre :\n",
            "image133.jpg: 0.00%\n",
            "image119.jpg: 0.00%\n",
            "image047.jpg: 0.00%\n",
            "image069.jpg: 1.07%\n",
            "image089.jpg: 0.00%\n",
            "image045.jpg: 0.46%\n",
            "image116.jpg: 0.90%\n",
            "image025.jpg: 1.69%\n",
            "image120.jpg: 0.43%\n",
            "image122.jpg: 1.21%\n",
            "image018.jpg: 1.26%\n",
            "image105.jpg: 0.00%\n"
          ]
        },
        {
          "output_type": "display_data",
          "data": {
            "text/plain": [
              "<Figure size 1200x800 with 1 Axes>"
            ],
            "image/png": "[encoded data removed]"
          },
          "metadata": {}
        }
      ]
    },
    {
      "cell_type": "markdown",
      "source": [
        "#Tests de la fonction CheckCapMissing\n",
        "\n",
        "Ici, on vient parser les images de bottleimage pour déterminer la performance de la fonction"
      ],
      "metadata": {
        "id": "wHCRljw3Qg1r"
      }
    },
    {
      "cell_type": "code",
      "source": [
        "def analyze_images_in_folder(folder_path):\n",
        "    # Liste pour stocker les résultats\n",
        "    results = []\n",
        "\n",
        "    # Parcourir tous les fichiers dans le dossier\n",
        "    for filename in os.listdir(folder_path):\n",
        "        # Obtenir le chemin complet de l'image\n",
        "        file_path = os.path.join(folder_path, filename)\n",
        "\n",
        "        # Vérifier que le fichier est une image\n",
        "        if filename.lower().endswith(('.png', '.jpg', '.jpeg', '.bmp', '.tiff')):\n",
        "            # Charger l'image\n",
        "            image = cv2.imread(file_path)\n",
        "\n",
        "            # Vérifier si le fichier a été chargé correctement\n",
        "            if image is None:\n",
        "                print(f\"Impossible de charger le fichier : {file_path}\")\n",
        "                continue\n",
        "\n",
        "            # Utiliser la fonction CheckCapMissing\n",
        "            has_cap = CheckCapMissing(image)\n",
        "\n",
        "            # Ajouter le résultat à la liste\n",
        "            if has_cap == 0:\n",
        "                results.append((filename, \"No bottle\"))\n",
        "            elif has_cap == 1:\n",
        "                results.append((filename, \"Cap Missing\"))\n",
        "            else:\n",
        "                results.append((filename, \"Cap Present\"))\n",
        "\n",
        "            # Ajouter le résultat à la liste\n",
        "            if has_cap == 0:\n",
        "                label = \"No bottle\"\n",
        "            elif has_cap == 1:\n",
        "                label = \"Cap Missing\"\n",
        "            else:\n",
        "                label = \"Cap Present\"\n",
        "\n",
        "            cv2.putText(image, label, (10, 30), cv2.FONT_HERSHEY_SIMPLEX, 1, (0, 255, 0), 2)\n",
        "            #cv2.imshow(\"Image Analysis\", image)\n",
        "\n",
        "            # I supress the following two lines for easier notebook handling, they simply show the image again.\n",
        "            # cv2_imshow(image)\n",
        "            # cv2.waitKey(500)  # Pause pour 500ms (modifiez si besoin)\n",
        "\n",
        "    # Fermer toutes les fenêtres d'affichage\n",
        "    cv2.destroyAllWindows()\n",
        "\n",
        "    # Afficher les résultats finaux\n",
        "    print(\"\\n--- Résultats de l'analyse ---\")\n",
        "    for filename, result in results:\n",
        "        print(f\"{filename}: {result}\")\n",
        "\n",
        "# Exemple d'utilisation\n",
        "analyze_images_in_folder(folder_path)"
      ],
      "metadata": {
        "id": "jI5zWPGKQdXo",
        "colab": {
          "base_uri": "https://localhost:8080/",
          "height": 1000
        },
        "outputId": "66ba1968-2766-4bae-ffb7-ccf425eb892b"
      },
      "execution_count": 4,
      "outputs": [
        {
          "output_type": "display_data",
          "data": {
            "text/plain": [
              "<PIL.Image.Image image mode=L size=125x63>"
            ],
            "image/png": "[encoded data removed]",
            "image/jpeg": "[encoded data removed]"
          },
          "metadata": {}
        },
        {
          "output_type": "stream",
          "name": "stdout",
          "text": [
            "17.46031746031746\n"
          ]
        },
        {
          "output_type": "display_data",
          "data": {
            "text/plain": [
              "<PIL.Image.Image image mode=L size=125x63>"
            ],
            "image/png": "[encoded data removed]",
            "image/jpeg": "[encoded data removed]"
          },
          "metadata": {}
        },
        {
          "output_type": "stream",
          "name": "stdout",
          "text": [
            "0.0\n"
          ]
        },
        {
          "output_type": "display_data",
          "data": {
            "text/plain": [
              "<PIL.Image.Image image mode=L size=125x63>"
            ],
            "image/png": "[encoded data removed]",
            "image/jpeg": "[encoded data removed]"
          },
          "metadata": {}
        },
        {
          "output_type": "stream",
          "name": "stdout",
          "text": [
            "40.507936507936506\n"
          ]
        },
        {
          "output_type": "display_data",
          "data": {
            "text/plain": [
              "<PIL.Image.Image image mode=L size=125x63>"
            ],
            "image/png": "[encoded data removed]",
            "image/jpeg": "[encoded data removed]"
          },
          "metadata": {}
        },
        {
          "output_type": "stream",
          "name": "stdout",
          "text": [
            "40.29206349206349\n"
          ]
        },
        {
          "output_type": "display_data",
          "data": {
            "text/plain": [
              "<PIL.Image.Image image mode=L size=125x63>"
            ],
            "image/png": "[encoded data removed]",
            "image/jpeg": "[encoded data removed]"
          },
          "metadata": {}
        },
        {
          "output_type": "stream",
          "name": "stdout",
          "text": [
            "24.469841269841268\n"
          ]
        },
        {
          "output_type": "display_data",
          "data": {
            "text/plain": [
              "<PIL.Image.Image image mode=L size=125x63>"
            ],
            "image/png": "[encoded data removed]",
            "image/jpeg": "[encoded data removed]"
          },
          "metadata": {}
        },
        {
          "output_type": "stream",
          "name": "stdout",
          "text": [
            "43.25079365079365\n"
          ]
        },
        {
          "output_type": "display_data",
          "data": {
            "text/plain": [
              "<PIL.Image.Image image mode=L size=125x63>"
            ],
            "image/png": "[encoded data removed]",
            "image/jpeg": "[encoded data removed]"
          },
          "metadata": {}
        },
        {
          "output_type": "stream",
          "name": "stdout",
          "text": [
            "46.32380952380952\n"
          ]
        },
        {
          "output_type": "display_data",
          "data": {
            "text/plain": [
              "<PIL.Image.Image image mode=L size=125x63>"
            ],
            "image/png": "[encoded data removed]",
            "image/jpeg": "[encoded data removed]"
          },
          "metadata": {}
        },
        {
          "output_type": "stream",
          "name": "stdout",
          "text": [
            "42.12063492063492\n"
          ]
        },
        {
          "output_type": "display_data",
          "data": {
            "text/plain": [
              "<PIL.Image.Image image mode=L size=125x63>"
            ],
            "image/png": "[encoded data removed]",
            "image/jpeg": "[encoded data removed]"
          },
          "metadata": {}
        },
        {
          "output_type": "stream",
          "name": "stdout",
          "text": [
            "45.44761904761905\n"
          ]
        },
        {
          "output_type": "display_data",
          "data": {
            "text/plain": [
              "<PIL.Image.Image image mode=L size=125x63>"
            ],
            "image/png": "[encoded data removed]",
            "image/jpeg": "[encoded data removed]"
          },
          "metadata": {}
        },
        {
          "output_type": "stream",
          "name": "stdout",
          "text": [
            "43.66984126984127\n"
          ]
        },
        {
          "output_type": "display_data",
          "data": {
            "text/plain": [
              "<PIL.Image.Image image mode=L size=125x63>"
            ],
            "image/png": "[encoded data removed]",
            "image/jpeg": "[encoded data removed]"
          },
          "metadata": {}
        },
        {
          "output_type": "stream",
          "name": "stdout",
          "text": [
            "43.46666666666666\n"
          ]
        },
        {
          "output_type": "display_data",
          "data": {
            "text/plain": [
              "<PIL.Image.Image image mode=L size=125x63>"
            ],
            "image/png": "[encoded data removed]",
            "image/jpeg": "[encoded data removed]"
          },
          "metadata": {}
        },
        {
          "output_type": "stream",
          "name": "stdout",
          "text": [
            "41.63809523809524\n"
          ]
        },
        {
          "output_type": "display_data",
          "data": {
            "text/plain": [
              "<PIL.Image.Image image mode=L size=125x63>"
            ],
            "image/png": "[encoded data removed]",
            "image/jpeg": "[encoded data removed]"
          },
          "metadata": {}
        },
        {
          "output_type": "stream",
          "name": "stdout",
          "text": [
            "43.212698412698415\n"
          ]
        },
        {
          "output_type": "display_data",
          "data": {
            "text/plain": [
              "<PIL.Image.Image image mode=L size=125x63>"
            ],
            "image/png": "[encoded data removed]",
            "image/jpeg": "[encoded data removed]"
          },
          "metadata": {}
        },
        {
          "output_type": "stream",
          "name": "stdout",
          "text": [
            "46.26031746031746\n"
          ]
        },
        {
          "output_type": "display_data",
          "data": {
            "text/plain": [
              "<PIL.Image.Image image mode=L size=125x63>"
            ],
            "image/png": "[encoded data removed]",
            "image/jpeg": "[encoded data removed]"
          },
          "metadata": {}
        },
        {
          "output_type": "stream",
          "name": "stdout",
          "text": [
            "45.7015873015873\n"
          ]
        },
        {
          "output_type": "display_data",
          "data": {
            "text/plain": [
              "<PIL.Image.Image image mode=L size=125x63>"
            ],
            "image/png": "[encoded data removed]",
            "image/jpeg": "[encoded data removed]"
          },
          "metadata": {}
        },
        {
          "output_type": "stream",
          "name": "stdout",
          "text": [
            "42.98412698412699\n"
          ]
        },
        {
          "output_type": "display_data",
          "data": {
            "text/plain": [
              "<PIL.Image.Image image mode=L size=125x63>"
            ],
            "image/png": "[encoded data removed]",
            "image/jpeg": "[encoded data removed]"
          },
          "metadata": {}
        },
        {
          "output_type": "stream",
          "name": "stdout",
          "text": [
            "44.076190476190476\n"
          ]
        },
        {
          "output_type": "display_data",
          "data": {
            "text/plain": [
              "<PIL.Image.Image image mode=L size=125x63>"
            ],
            "image/png": "[encoded data removed]",
            "image/jpeg": "[encoded data removed]"
          },
          "metadata": {}
        },
        {
          "output_type": "stream",
          "name": "stdout",
          "text": [
            "48.787301587301585\n"
          ]
        },
        {
          "output_type": "display_data",
          "data": {
            "text/plain": [
              "<PIL.Image.Image image mode=L size=125x63>"
            ],
            "image/png": "[encoded data removed]",
            "image/jpeg": "[encoded data removed]"
          },
          "metadata": {}
        },
        {
          "output_type": "stream",
          "name": "stdout",
          "text": [
            "40.95238095238095\n"
          ]
        },
        {
          "output_type": "display_data",
          "data": {
            "text/plain": [
              "<PIL.Image.Image image mode=L size=125x63>"
            ],
            "image/png": "[encoded data removed]",
            "image/jpeg": "[encoded data removed]"
          },
          "metadata": {}
        },
        {
          "output_type": "stream",
          "name": "stdout",
          "text": [
            "24.31746031746032\n"
          ]
        },
        {
          "output_type": "display_data",
          "data": {
            "text/plain": [
              "<PIL.Image.Image image mode=L size=125x63>"
            ],
            "image/png": "[encoded data removed]",
            "image/jpeg": "[encoded data removed]"
          },
          "metadata": {}
        },
        {
          "output_type": "stream",
          "name": "stdout",
          "text": [
            "31.86031746031746\n"
          ]
        },
        {
          "output_type": "display_data",
          "data": {
            "text/plain": [
              "<PIL.Image.Image image mode=L size=125x63>"
            ],
            "image/png": "[encoded data removed]",
            "image/jpeg": "[encoded data removed]"
          },
          "metadata": {}
        },
        {
          "output_type": "stream",
          "name": "stdout",
          "text": [
            "40.58412698412698\n"
          ]
        },
        {
          "output_type": "display_data",
          "data": {
            "text/plain": [
              "<PIL.Image.Image image mode=L size=125x63>"
            ],
            "image/png": "[encoded data removed]",
            "image/jpeg": "[encoded data removed]"
          },
          "metadata": {}
        },
        {
          "output_type": "stream",
          "name": "stdout",
          "text": [
            "48.96507936507937\n"
          ]
        },
        {
          "output_type": "display_data",
          "data": {
            "text/plain": [
              "<PIL.Image.Image image mode=L size=125x63>"
            ],
            "image/png": "[encoded data removed]",
            "image/jpeg": "[encoded data removed]"
          },
          "metadata": {}
        },
        {
          "output_type": "stream",
          "name": "stdout",
          "text": [
            "44.82539682539682\n"
          ]
        },
        {
          "output_type": "display_data",
          "data": {
            "text/plain": [
              "<PIL.Image.Image image mode=L size=125x63>"
            ],
            "image/png": "[encoded data removed]",
            "image/jpeg": "[encoded data removed]"
          },
          "metadata": {}
        },
        {
          "output_type": "stream",
          "name": "stdout",
          "text": [
            "44.736507936507934\n"
          ]
        },
        {
          "output_type": "display_data",
          "data": {
            "text/plain": [
              "<PIL.Image.Image image mode=L size=125x63>"
            ],
            "image/png": "[encoded data removed]",
            "image/jpeg": "[encoded data removed]"
          },
          "metadata": {}
        },
        {
          "output_type": "stream",
          "name": "stdout",
          "text": [
            "44.08888888888889\n"
          ]
        },
        {
          "output_type": "display_data",
          "data": {
            "text/plain": [
              "<PIL.Image.Image image mode=L size=125x63>"
            ],
            "image/png": "[encoded data removed]",
            "image/jpeg": "[encoded data removed]"
          },
          "metadata": {}
        },
        {
          "output_type": "stream",
          "name": "stdout",
          "text": [
            "43.073015873015876\n"
          ]
        },
        {
          "output_type": "display_data",
          "data": {
            "text/plain": [
              "<PIL.Image.Image image mode=L size=125x63>"
            ],
            "image/png": "[encoded data removed]",
            "image/jpeg": "[encoded data removed]"
          },
          "metadata": {}
        },
        {
          "output_type": "stream",
          "name": "stdout",
          "text": [
            "41.98095238095238\n"
          ]
        },
        {
          "output_type": "display_data",
          "data": {
            "text/plain": [
              "<PIL.Image.Image image mode=L size=125x63>"
            ],
            "image/png": "[encoded data removed]",
            "image/jpeg": "[encoded data removed]"
          },
          "metadata": {}
        },
        {
          "output_type": "stream",
          "name": "stdout",
          "text": [
            "42.857142857142854\n"
          ]
        },
        {
          "output_type": "display_data",
          "data": {
            "text/plain": [
              "<PIL.Image.Image image mode=L size=125x63>"
            ],
            "image/png": "[encoded data removed]",
            "image/jpeg": "[encoded data removed]"
          },
          "metadata": {}
        },
        {
          "output_type": "stream",
          "name": "stdout",
          "text": [
            "40.9015873015873\n"
          ]
        },
        {
          "output_type": "display_data",
          "data": {
            "text/plain": [
              "<PIL.Image.Image image mode=L size=125x63>"
            ],
            "image/png": "[encoded data removed]",
            "image/jpeg": "[encoded data removed]"
          },
          "metadata": {}
        },
        {
          "output_type": "stream",
          "name": "stdout",
          "text": [
            "45.25714285714286\n"
          ]
        },
        {
          "output_type": "display_data",
          "data": {
            "text/plain": [
              "<PIL.Image.Image image mode=L size=125x63>"
            ],
            "image/png": "[encoded data removed]",
            "image/jpeg": "[encoded data removed]"
          },
          "metadata": {}
        },
        {
          "output_type": "stream",
          "name": "stdout",
          "text": [
            "45.6\n"
          ]
        },
        {
          "output_type": "display_data",
          "data": {
            "text/plain": [
              "<PIL.Image.Image image mode=L size=125x63>"
            ],
            "image/png": "[encoded data removed]",
            "image/jpeg": "[encoded data removed]"
          },
          "metadata": {}
        },
        {
          "output_type": "stream",
          "name": "stdout",
          "text": [
            "42.20952380952381\n"
          ]
        },
        {
          "output_type": "display_data",
          "data": {
            "text/plain": [
              "<PIL.Image.Image image mode=L size=125x63>"
            ],
            "image/png": "[encoded data removed]",
            "image/jpeg": "[encoded data removed]"
          },
          "metadata": {}
        },
        {
          "output_type": "stream",
          "name": "stdout",
          "text": [
            "44.66031746031746\n"
          ]
        },
        {
          "output_type": "display_data",
          "data": {
            "text/plain": [
              "<PIL.Image.Image image mode=L size=125x63>"
            ],
            "image/png": "[encoded data removed]",
            "image/jpeg": "[encoded data removed]"
          },
          "metadata": {}
        },
        {
          "output_type": "stream",
          "name": "stdout",
          "text": [
            "44.63492063492063\n"
          ]
        },
        {
          "output_type": "display_data",
          "data": {
            "text/plain": [
              "<PIL.Image.Image image mode=L size=125x63>"
            ],
            "image/png": "[encoded data removed]",
            "image/jpeg": "[encoded data removed]"
          },
          "metadata": {}
        },
        {
          "output_type": "stream",
          "name": "stdout",
          "text": [
            "0.0\n"
          ]
        },
        {
          "output_type": "display_data",
          "data": {
            "text/plain": [
              "<PIL.Image.Image image mode=L size=125x63>"
            ],
            "image/png": "[encoded data removed]",
            "image/jpeg": "[encoded data removed]"
          },
          "metadata": {}
        },
        {
          "output_type": "stream",
          "name": "stdout",
          "text": [
            "47.94920634920635\n"
          ]
        },
        {
          "output_type": "display_data",
          "data": {
            "text/plain": [
              "<PIL.Image.Image image mode=L size=125x63>"
            ],
            "image/png": "[encoded data removed]",
            "image/jpeg": "[encoded data removed]"
          },
          "metadata": {}
        },
        {
          "output_type": "stream",
          "name": "stdout",
          "text": [
            "44.96507936507936\n"
          ]
        },
        {
          "output_type": "display_data",
          "data": {
            "text/plain": [
              "<PIL.Image.Image image mode=L size=125x63>"
            ],
            "image/png": "[encoded data removed]",
            "image/jpeg": "[encoded data removed]"
          },
          "metadata": {}
        },
        {
          "output_type": "stream",
          "name": "stdout",
          "text": [
            "44.22857142857143\n"
          ]
        },
        {
          "output_type": "display_data",
          "data": {
            "text/plain": [
              "<PIL.Image.Image image mode=L size=125x63>"
            ],
            "image/png": "[encoded data removed]",
            "image/jpeg": "[encoded data removed]"
          },
          "metadata": {}
        },
        {
          "output_type": "stream",
          "name": "stdout",
          "text": [
            "44.27936507936508\n"
          ]
        },
        {
          "output_type": "display_data",
          "data": {
            "text/plain": [
              "<PIL.Image.Image image mode=L size=125x63>"
            ],
            "image/png": "[encoded data removed]",
            "image/jpeg": "[encoded data removed]"
          },
          "metadata": {}
        },
        {
          "output_type": "stream",
          "name": "stdout",
          "text": [
            "44.457142857142856\n"
          ]
        },
        {
          "output_type": "display_data",
          "data": {
            "text/plain": [
              "<PIL.Image.Image image mode=L size=125x63>"
            ],
            "image/png": "[encoded data removed]",
            "image/jpeg": "[encoded data removed]"
          },
          "metadata": {}
        },
        {
          "output_type": "stream",
          "name": "stdout",
          "text": [
            "41.993650793650794\n"
          ]
        },
        {
          "output_type": "display_data",
          "data": {
            "text/plain": [
              "<PIL.Image.Image image mode=L size=125x63>"
            ],
            "image/png": "[encoded data removed]",
            "image/jpeg": "[encoded data removed]"
          },
          "metadata": {}
        },
        {
          "output_type": "stream",
          "name": "stdout",
          "text": [
            "0.0\n"
          ]
        },
        {
          "output_type": "display_data",
          "data": {
            "text/plain": [
              "<PIL.Image.Image image mode=L size=125x63>"
            ],
            "image/png": "[encoded data removed]",
            "image/jpeg": "[encoded data removed]"
          },
          "metadata": {}
        },
        {
          "output_type": "stream",
          "name": "stdout",
          "text": [
            "1.1174603174603175\n"
          ]
        },
        {
          "output_type": "display_data",
          "data": {
            "text/plain": [
              "<PIL.Image.Image image mode=L size=125x63>"
            ],
            "image/png": "[encoded data removed]",
            "image/jpeg": "[encoded data removed]"
          },
          "metadata": {}
        },
        {
          "output_type": "stream",
          "name": "stdout",
          "text": [
            "42.47619047619048\n"
          ]
        },
        {
          "output_type": "display_data",
          "data": {
            "text/plain": [
              "<PIL.Image.Image image mode=L size=125x63>"
            ],
            "image/png": "[encoded data removed]",
            "image/jpeg": "[encoded data removed]"
          },
          "metadata": {}
        },
        {
          "output_type": "stream",
          "name": "stdout",
          "text": [
            "45.38412698412698\n"
          ]
        },
        {
          "output_type": "display_data",
          "data": {
            "text/plain": [
              "<PIL.Image.Image image mode=L size=125x63>"
            ],
            "image/png": "[encoded data removed]",
            "image/jpeg": "[encoded data removed]"
          },
          "metadata": {}
        },
        {
          "output_type": "stream",
          "name": "stdout",
          "text": [
            "40.076190476190476\n"
          ]
        },
        {
          "output_type": "display_data",
          "data": {
            "text/plain": [
              "<PIL.Image.Image image mode=L size=125x63>"
            ],
            "image/png": "[encoded data removed]",
            "image/jpeg": "[encoded data removed]"
          },
          "metadata": {}
        },
        {
          "output_type": "stream",
          "name": "stdout",
          "text": [
            "41.473015873015875\n"
          ]
        },
        {
          "output_type": "display_data",
          "data": {
            "text/plain": [
              "<PIL.Image.Image image mode=L size=125x63>"
            ],
            "image/png": "[encoded data removed]",
            "image/jpeg": "[encoded data removed]"
          },
          "metadata": {}
        },
        {
          "output_type": "stream",
          "name": "stdout",
          "text": [
            "26.107936507936508\n"
          ]
        },
        {
          "output_type": "display_data",
          "data": {
            "text/plain": [
              "<PIL.Image.Image image mode=L size=125x63>"
            ],
            "image/png": "[encoded data removed]",
            "image/jpeg": "[encoded data removed]"
          },
          "metadata": {}
        },
        {
          "output_type": "stream",
          "name": "stdout",
          "text": [
            "40.52063492063492\n"
          ]
        },
        {
          "output_type": "display_data",
          "data": {
            "text/plain": [
              "<PIL.Image.Image image mode=L size=125x63>"
            ],
            "image/png": "[encoded data removed]",
            "image/jpeg": "[encoded data removed]"
          },
          "metadata": {}
        },
        {
          "output_type": "stream",
          "name": "stdout",
          "text": [
            "43.84761904761905\n"
          ]
        },
        {
          "output_type": "display_data",
          "data": {
            "text/plain": [
              "<PIL.Image.Image image mode=L size=125x63>"
            ],
            "image/png": "[encoded data removed]",
            "image/jpeg": "[encoded data removed]"
          },
          "metadata": {}
        },
        {
          "output_type": "stream",
          "name": "stdout",
          "text": [
            "45.53650793650794\n"
          ]
        },
        {
          "output_type": "display_data",
          "data": {
            "text/plain": [
              "<PIL.Image.Image image mode=L size=125x63>"
            ],
            "image/png": "[encoded data removed]",
            "image/jpeg": "[encoded data removed]"
          },
          "metadata": {}
        },
        {
          "output_type": "stream",
          "name": "stdout",
          "text": [
            "41.803174603174604\n"
          ]
        },
        {
          "output_type": "display_data",
          "data": {
            "text/plain": [
              "<PIL.Image.Image image mode=L size=125x63>"
            ],
            "image/png": "[encoded data removed]",
            "image/jpeg": "[encoded data removed]"
          },
          "metadata": {}
        },
        {
          "output_type": "stream",
          "name": "stdout",
          "text": [
            "45.180952380952384\n"
          ]
        },
        {
          "output_type": "display_data",
          "data": {
            "text/plain": [
              "<PIL.Image.Image image mode=L size=125x63>"
            ],
            "image/png": "[encoded data removed]",
            "image/jpeg": "[encoded data removed]"
          },
          "metadata": {}
        },
        {
          "output_type": "stream",
          "name": "stdout",
          "text": [
            "42.425396825396824\n"
          ]
        },
        {
          "output_type": "display_data",
          "data": {
            "text/plain": [
              "<PIL.Image.Image image mode=L size=125x63>"
            ],
            "image/png": "[encoded data removed]",
            "image/jpeg": "[encoded data removed]"
          },
          "metadata": {}
        },
        {
          "output_type": "stream",
          "name": "stdout",
          "text": [
            "39.885714285714286\n"
          ]
        },
        {
          "output_type": "display_data",
          "data": {
            "text/plain": [
              "<PIL.Image.Image image mode=L size=125x63>"
            ],
            "image/png": "[encoded data removed]",
            "image/jpeg": "[encoded data removed]"
          },
          "metadata": {}
        },
        {
          "output_type": "stream",
          "name": "stdout",
          "text": [
            "45.29523809523809\n"
          ]
        },
        {
          "output_type": "display_data",
          "data": {
            "text/plain": [
              "<PIL.Image.Image image mode=L size=125x63>"
            ],
            "image/png": "[encoded data removed]",
            "image/jpeg": "[encoded data removed]"
          },
          "metadata": {}
        },
        {
          "output_type": "stream",
          "name": "stdout",
          "text": [
            "44.06349206349206\n"
          ]
        },
        {
          "output_type": "display_data",
          "data": {
            "text/plain": [
              "<PIL.Image.Image image mode=L size=125x63>"
            ],
            "image/png": "[encoded data removed]",
            "image/jpeg": "[encoded data removed]"
          },
          "metadata": {}
        },
        {
          "output_type": "stream",
          "name": "stdout",
          "text": [
            "42.285714285714285\n"
          ]
        },
        {
          "output_type": "display_data",
          "data": {
            "text/plain": [
              "<PIL.Image.Image image mode=L size=125x63>"
            ],
            "image/png": "[encoded data removed]",
            "image/jpeg": "[encoded data removed]"
          },
          "metadata": {}
        },
        {
          "output_type": "stream",
          "name": "stdout",
          "text": [
            "45.092063492063495\n"
          ]
        },
        {
          "output_type": "display_data",
          "data": {
            "text/plain": [
              "<PIL.Image.Image image mode=L size=125x63>"
            ],
            "image/png": "[encoded data removed]",
            "image/jpeg": "[encoded data removed]"
          },
          "metadata": {}
        },
        {
          "output_type": "stream",
          "name": "stdout",
          "text": [
            "0.0\n"
          ]
        },
        {
          "output_type": "display_data",
          "data": {
            "text/plain": [
              "<PIL.Image.Image image mode=L size=125x63>"
            ],
            "image/png": "[encoded data removed]",
            "image/jpeg": "[encoded data removed]"
          },
          "metadata": {}
        },
        {
          "output_type": "stream",
          "name": "stdout",
          "text": [
            "45.955555555555556\n"
          ]
        },
        {
          "output_type": "display_data",
          "data": {
            "text/plain": [
              "<PIL.Image.Image image mode=L size=125x63>"
            ],
            "image/png": "[encoded data removed]",
            "image/jpeg": "[encoded data removed]"
          },
          "metadata": {}
        },
        {
          "output_type": "stream",
          "name": "stdout",
          "text": [
            "43.55555555555555\n"
          ]
        },
        {
          "output_type": "display_data",
          "data": {
            "text/plain": [
              "<PIL.Image.Image image mode=L size=125x63>"
            ],
            "image/png": "[encoded data removed]",
            "image/jpeg": "[encoded data removed]"
          },
          "metadata": {}
        },
        {
          "output_type": "stream",
          "name": "stdout",
          "text": [
            "42.24761904761905\n"
          ]
        },
        {
          "output_type": "display_data",
          "data": {
            "text/plain": [
              "<PIL.Image.Image image mode=L size=125x63>"
            ],
            "image/png": "[encoded data removed]",
            "image/jpeg": "[encoded data removed]"
          },
          "metadata": {}
        },
        {
          "output_type": "stream",
          "name": "stdout",
          "text": [
            "44.457142857142856\n"
          ]
        },
        {
          "output_type": "display_data",
          "data": {
            "text/plain": [
              "<PIL.Image.Image image mode=L size=125x63>"
            ],
            "image/png": "[encoded data removed]",
            "image/jpeg": "[encoded data removed]"
          },
          "metadata": {}
        },
        {
          "output_type": "stream",
          "name": "stdout",
          "text": [
            "0.48253968253968255\n"
          ]
        },
        {
          "output_type": "display_data",
          "data": {
            "text/plain": [
              "<PIL.Image.Image image mode=L size=125x63>"
            ],
            "image/png": "[encoded data removed]",
            "image/jpeg": "[encoded data removed]"
          },
          "metadata": {}
        },
        {
          "output_type": "stream",
          "name": "stdout",
          "text": [
            "44.82539682539682\n"
          ]
        },
        {
          "output_type": "display_data",
          "data": {
            "text/plain": [
              "<PIL.Image.Image image mode=L size=125x63>"
            ],
            "image/png": "[encoded data removed]",
            "image/jpeg": "[encoded data removed]"
          },
          "metadata": {}
        },
        {
          "output_type": "stream",
          "name": "stdout",
          "text": [
            "47.07301587301587\n"
          ]
        },
        {
          "output_type": "display_data",
          "data": {
            "text/plain": [
              "<PIL.Image.Image image mode=L size=125x63>"
            ],
            "image/png": "[encoded data removed]",
            "image/jpeg": "[encoded data removed]"
          },
          "metadata": {}
        },
        {
          "output_type": "stream",
          "name": "stdout",
          "text": [
            "44.25396825396825\n"
          ]
        },
        {
          "output_type": "display_data",
          "data": {
            "text/plain": [
              "<PIL.Image.Image image mode=L size=125x63>"
            ],
            "image/png": "[encoded data removed]",
            "image/jpeg": "[encoded data removed]"
          },
          "metadata": {}
        },
        {
          "output_type": "stream",
          "name": "stdout",
          "text": [
            "43.53015873015873\n"
          ]
        },
        {
          "output_type": "display_data",
          "data": {
            "text/plain": [
              "<PIL.Image.Image image mode=L size=125x63>"
            ],
            "image/png": "[encoded data removed]",
            "image/jpeg": "[encoded data removed]"
          },
          "metadata": {}
        },
        {
          "output_type": "stream",
          "name": "stdout",
          "text": [
            "0.9396825396825397\n"
          ]
        },
        {
          "output_type": "display_data",
          "data": {
            "text/plain": [
              "<PIL.Image.Image image mode=L size=125x63>"
            ],
            "image/png": "[encoded data removed]",
            "image/jpeg": "[encoded data removed]"
          },
          "metadata": {}
        },
        {
          "output_type": "stream",
          "name": "stdout",
          "text": [
            "39.31428571428571\n"
          ]
        },
        {
          "output_type": "display_data",
          "data": {
            "text/plain": [
              "<PIL.Image.Image image mode=L size=125x63>"
            ],
            "image/png": "[encoded data removed]",
            "image/jpeg": "[encoded data removed]"
          },
          "metadata": {}
        },
        {
          "output_type": "stream",
          "name": "stdout",
          "text": [
            "1.7269841269841268\n"
          ]
        },
        {
          "output_type": "display_data",
          "data": {
            "text/plain": [
              "<PIL.Image.Image image mode=L size=125x63>"
            ],
            "image/png": "[encoded data removed]",
            "image/jpeg": "[encoded data removed]"
          },
          "metadata": {}
        },
        {
          "output_type": "stream",
          "name": "stdout",
          "text": [
            "42.31111111111111\n"
          ]
        },
        {
          "output_type": "display_data",
          "data": {
            "text/plain": [
              "<PIL.Image.Image image mode=L size=125x63>"
            ],
            "image/png": "[encoded data removed]",
            "image/jpeg": "[encoded data removed]"
          },
          "metadata": {}
        },
        {
          "output_type": "stream",
          "name": "stdout",
          "text": [
            "44.888888888888886\n"
          ]
        },
        {
          "output_type": "display_data",
          "data": {
            "text/plain": [
              "<PIL.Image.Image image mode=L size=125x63>"
            ],
            "image/png": "[encoded data removed]",
            "image/jpeg": "[encoded data removed]"
          },
          "metadata": {}
        },
        {
          "output_type": "stream",
          "name": "stdout",
          "text": [
            "19.961904761904762\n"
          ]
        },
        {
          "output_type": "display_data",
          "data": {
            "text/plain": [
              "<PIL.Image.Image image mode=L size=125x63>"
            ],
            "image/png": "[encoded data removed]",
            "image/jpeg": "[encoded data removed]"
          },
          "metadata": {}
        },
        {
          "output_type": "stream",
          "name": "stdout",
          "text": [
            "44.076190476190476\n"
          ]
        },
        {
          "output_type": "display_data",
          "data": {
            "text/plain": [
              "<PIL.Image.Image image mode=L size=125x63>"
            ],
            "image/png": "[encoded data removed]",
            "image/jpeg": "[encoded data removed]"
          },
          "metadata": {}
        },
        {
          "output_type": "stream",
          "name": "stdout",
          "text": [
            "40.86349206349206\n"
          ]
        },
        {
          "output_type": "display_data",
          "data": {
            "text/plain": [
              "<PIL.Image.Image image mode=L size=125x63>"
            ],
            "image/png": "[encoded data removed]",
            "image/jpeg": "[encoded data removed]"
          },
          "metadata": {}
        },
        {
          "output_type": "stream",
          "name": "stdout",
          "text": [
            "44.49523809523809\n"
          ]
        },
        {
          "output_type": "display_data",
          "data": {
            "text/plain": [
              "<PIL.Image.Image image mode=L size=125x63>"
            ],
            "image/png": "[encoded data removed]",
            "image/jpeg": "[encoded data removed]"
          },
          "metadata": {}
        },
        {
          "output_type": "stream",
          "name": "stdout",
          "text": [
            "26.93333333333333\n"
          ]
        },
        {
          "output_type": "display_data",
          "data": {
            "text/plain": [
              "<PIL.Image.Image image mode=L size=125x63>"
            ],
            "image/png": "[encoded data removed]",
            "image/jpeg": "[encoded data removed]"
          },
          "metadata": {}
        },
        {
          "output_type": "stream",
          "name": "stdout",
          "text": [
            "44.08888888888889\n"
          ]
        },
        {
          "output_type": "display_data",
          "data": {
            "text/plain": [
              "<PIL.Image.Image image mode=L size=125x63>"
            ],
            "image/png": "[encoded data removed]",
            "image/jpeg": "[encoded data removed]"
          },
          "metadata": {}
        },
        {
          "output_type": "stream",
          "name": "stdout",
          "text": [
            "22.526984126984125\n"
          ]
        },
        {
          "output_type": "display_data",
          "data": {
            "text/plain": [
              "<PIL.Image.Image image mode=L size=125x63>"
            ],
            "image/png": "[encoded data removed]",
            "image/jpeg": "[encoded data removed]"
          },
          "metadata": {}
        },
        {
          "output_type": "stream",
          "name": "stdout",
          "text": [
            "44.60952380952381\n"
          ]
        },
        {
          "output_type": "display_data",
          "data": {
            "text/plain": [
              "<PIL.Image.Image image mode=L size=125x63>"
            ],
            "image/png": "[encoded data removed]",
            "image/jpeg": "[encoded data removed]"
          },
          "metadata": {}
        },
        {
          "output_type": "stream",
          "name": "stdout",
          "text": [
            "49.65079365079365\n"
          ]
        },
        {
          "output_type": "display_data",
          "data": {
            "text/plain": [
              "<PIL.Image.Image image mode=L size=125x63>"
            ],
            "image/png": "[encoded data removed]",
            "image/jpeg": "[encoded data removed]"
          },
          "metadata": {}
        },
        {
          "output_type": "stream",
          "name": "stdout",
          "text": [
            "46.05714285714286\n"
          ]
        },
        {
          "output_type": "display_data",
          "data": {
            "text/plain": [
              "<PIL.Image.Image image mode=L size=125x63>"
            ],
            "image/png": "[encoded data removed]",
            "image/jpeg": "[encoded data removed]"
          },
          "metadata": {}
        },
        {
          "output_type": "stream",
          "name": "stdout",
          "text": [
            "41.35873015873016\n"
          ]
        },
        {
          "output_type": "display_data",
          "data": {
            "text/plain": [
              "<PIL.Image.Image image mode=L size=125x63>"
            ],
            "image/png": "[encoded data removed]",
            "image/jpeg": "[encoded data removed]"
          },
          "metadata": {}
        },
        {
          "output_type": "stream",
          "name": "stdout",
          "text": [
            "42.18412698412698\n"
          ]
        },
        {
          "output_type": "display_data",
          "data": {
            "text/plain": [
              "<PIL.Image.Image image mode=L size=125x63>"
            ],
            "image/png": "[encoded data removed]",
            "image/jpeg": "[encoded data removed]"
          },
          "metadata": {}
        },
        {
          "output_type": "stream",
          "name": "stdout",
          "text": [
            "41.523809523809526\n"
          ]
        },
        {
          "output_type": "display_data",
          "data": {
            "text/plain": [
              "<PIL.Image.Image image mode=L size=125x63>"
            ],
            "image/png": "[encoded data removed]",
            "image/jpeg": "[encoded data removed]"
          },
          "metadata": {}
        },
        {
          "output_type": "stream",
          "name": "stdout",
          "text": [
            "18.704761904761906\n"
          ]
        },
        {
          "output_type": "display_data",
          "data": {
            "text/plain": [
              "<PIL.Image.Image image mode=L size=125x63>"
            ],
            "image/png": "[encoded data removed]",
            "image/jpeg": "[encoded data removed]"
          },
          "metadata": {}
        },
        {
          "output_type": "stream",
          "name": "stdout",
          "text": [
            "0.4444444444444444\n"
          ]
        },
        {
          "output_type": "display_data",
          "data": {
            "text/plain": [
              "<PIL.Image.Image image mode=L size=125x63>"
            ],
            "image/png": "[encoded data removed]",
            "image/jpeg": "[encoded data removed]"
          },
          "metadata": {}
        },
        {
          "output_type": "stream",
          "name": "stdout",
          "text": [
            "41.079365079365076\n"
          ]
        },
        {
          "output_type": "display_data",
          "data": {
            "text/plain": [
              "<PIL.Image.Image image mode=L size=125x63>"
            ],
            "image/png": "[encoded data removed]",
            "image/jpeg": "[encoded data removed]"
          },
          "metadata": {}
        },
        {
          "output_type": "stream",
          "name": "stdout",
          "text": [
            "47.27619047619048\n"
          ]
        },
        {
          "output_type": "display_data",
          "data": {
            "text/plain": [
              "<PIL.Image.Image image mode=L size=125x63>"
            ],
            "image/png": "[encoded data removed]",
            "image/jpeg": "[encoded data removed]"
          },
          "metadata": {}
        },
        {
          "output_type": "stream",
          "name": "stdout",
          "text": [
            "41.269841269841265\n"
          ]
        },
        {
          "output_type": "display_data",
          "data": {
            "text/plain": [
              "<PIL.Image.Image image mode=L size=125x63>"
            ],
            "image/png": "[encoded data removed]",
            "image/jpeg": "[encoded data removed]"
          },
          "metadata": {}
        },
        {
          "output_type": "stream",
          "name": "stdout",
          "text": [
            "44.1015873015873\n"
          ]
        },
        {
          "output_type": "display_data",
          "data": {
            "text/plain": [
              "<PIL.Image.Image image mode=L size=125x63>"
            ],
            "image/png": "[encoded data removed]",
            "image/jpeg": "[encoded data removed]"
          },
          "metadata": {}
        },
        {
          "output_type": "stream",
          "name": "stdout",
          "text": [
            "42.43809523809524\n"
          ]
        },
        {
          "output_type": "display_data",
          "data": {
            "text/plain": [
              "<PIL.Image.Image image mode=L size=125x63>"
            ],
            "image/png": "[encoded data removed]",
            "image/jpeg": "[encoded data removed]"
          },
          "metadata": {}
        },
        {
          "output_type": "stream",
          "name": "stdout",
          "text": [
            "43.61904761904762\n"
          ]
        },
        {
          "output_type": "display_data",
          "data": {
            "text/plain": [
              "<PIL.Image.Image image mode=L size=125x63>"
            ],
            "image/png": "[encoded data removed]",
            "image/jpeg": "[encoded data removed]"
          },
          "metadata": {}
        },
        {
          "output_type": "stream",
          "name": "stdout",
          "text": [
            "42.06984126984127\n"
          ]
        },
        {
          "output_type": "display_data",
          "data": {
            "text/plain": [
              "<PIL.Image.Image image mode=L size=125x63>"
            ],
            "image/png": "[encoded data removed]",
            "image/jpeg": "[encoded data removed]"
          },
          "metadata": {}
        },
        {
          "output_type": "stream",
          "name": "stdout",
          "text": [
            "39.7968253968254\n"
          ]
        },
        {
          "output_type": "display_data",
          "data": {
            "text/plain": [
              "<PIL.Image.Image image mode=L size=125x63>"
            ],
            "image/png": "[encoded data removed]",
            "image/jpeg": "[encoded data removed]"
          },
          "metadata": {}
        },
        {
          "output_type": "stream",
          "name": "stdout",
          "text": [
            "24.52063492063492\n"
          ]
        },
        {
          "output_type": "display_data",
          "data": {
            "text/plain": [
              "<PIL.Image.Image image mode=L size=125x63>"
            ],
            "image/png": "[encoded data removed]",
            "image/jpeg": "[encoded data removed]"
          },
          "metadata": {}
        },
        {
          "output_type": "stream",
          "name": "stdout",
          "text": [
            "45.01587301587301\n"
          ]
        },
        {
          "output_type": "display_data",
          "data": {
            "text/plain": [
              "<PIL.Image.Image image mode=L size=125x63>"
            ],
            "image/png": "[encoded data removed]",
            "image/jpeg": "[encoded data removed]"
          },
          "metadata": {}
        },
        {
          "output_type": "stream",
          "name": "stdout",
          "text": [
            "42.69206349206349\n"
          ]
        },
        {
          "output_type": "display_data",
          "data": {
            "text/plain": [
              "<PIL.Image.Image image mode=L size=125x63>"
            ],
            "image/png": "[encoded data removed]",
            "image/jpeg": "[encoded data removed]"
          },
          "metadata": {}
        },
        {
          "output_type": "stream",
          "name": "stdout",
          "text": [
            "44.05079365079365\n"
          ]
        },
        {
          "output_type": "display_data",
          "data": {
            "text/plain": [
              "<PIL.Image.Image image mode=L size=125x63>"
            ],
            "image/png": "[encoded data removed]",
            "image/jpeg": "[encoded data removed]"
          },
          "metadata": {}
        },
        {
          "output_type": "stream",
          "name": "stdout",
          "text": [
            "11.466666666666667\n"
          ]
        },
        {
          "output_type": "display_data",
          "data": {
            "text/plain": [
              "<PIL.Image.Image image mode=L size=125x63>"
            ],
            "image/png": "[encoded data removed]",
            "image/jpeg": "[encoded data removed]"
          },
          "metadata": {}
        },
        {
          "output_type": "stream",
          "name": "stdout",
          "text": [
            "1.2317460317460318\n"
          ]
        },
        {
          "output_type": "display_data",
          "data": {
            "text/plain": [
              "<PIL.Image.Image image mode=L size=125x63>"
            ],
            "image/png": "[encoded data removed]",
            "image/jpeg": "[encoded data removed]"
          },
          "metadata": {}
        },
        {
          "output_type": "stream",
          "name": "stdout",
          "text": [
            "26.158730158730158\n"
          ]
        },
        {
          "output_type": "display_data",
          "data": {
            "text/plain": [
              "<PIL.Image.Image image mode=L size=125x63>"
            ],
            "image/png": "[encoded data removed]",
            "image/jpeg": "[encoded data removed]"
          },
          "metadata": {}
        },
        {
          "output_type": "stream",
          "name": "stdout",
          "text": [
            "1.2825396825396824\n"
          ]
        },
        {
          "output_type": "display_data",
          "data": {
            "text/plain": [
              "<PIL.Image.Image image mode=L size=125x63>"
            ],
            "image/png": "[encoded data removed]",
            "image/jpeg": "[encoded data removed]"
          },
          "metadata": {}
        },
        {
          "output_type": "stream",
          "name": "stdout",
          "text": [
            "43.06031746031746\n"
          ]
        },
        {
          "output_type": "display_data",
          "data": {
            "text/plain": [
              "<PIL.Image.Image image mode=L size=125x63>"
            ],
            "image/png": "[encoded data removed]",
            "image/jpeg": "[encoded data removed]"
          },
          "metadata": {}
        },
        {
          "output_type": "stream",
          "name": "stdout",
          "text": [
            "28.19047619047619\n"
          ]
        },
        {
          "output_type": "display_data",
          "data": {
            "text/plain": [
              "<PIL.Image.Image image mode=L size=125x63>"
            ],
            "image/png": "[encoded data removed]",
            "image/jpeg": "[encoded data removed]"
          },
          "metadata": {}
        },
        {
          "output_type": "stream",
          "name": "stdout",
          "text": [
            "43.7968253968254\n"
          ]
        },
        {
          "output_type": "display_data",
          "data": {
            "text/plain": [
              "<PIL.Image.Image image mode=L size=125x63>"
            ],
            "image/png": "[encoded data removed]",
            "image/jpeg": "[encoded data removed]"
          },
          "metadata": {}
        },
        {
          "output_type": "stream",
          "name": "stdout",
          "text": [
            "45.3968253968254\n"
          ]
        },
        {
          "output_type": "display_data",
          "data": {
            "text/plain": [
              "<PIL.Image.Image image mode=L size=125x63>"
            ],
            "image/png": "[encoded data removed]",
            "image/jpeg": "[encoded data removed]"
          },
          "metadata": {}
        },
        {
          "output_type": "stream",
          "name": "stdout",
          "text": [
            "42.66666666666667\n"
          ]
        },
        {
          "output_type": "display_data",
          "data": {
            "text/plain": [
              "<PIL.Image.Image image mode=L size=125x63>"
            ],
            "image/png": "[encoded data removed]",
            "image/jpeg": "[encoded data removed]"
          },
          "metadata": {}
        },
        {
          "output_type": "stream",
          "name": "stdout",
          "text": [
            "39.453968253968256\n"
          ]
        },
        {
          "output_type": "display_data",
          "data": {
            "text/plain": [
              "<PIL.Image.Image image mode=L size=125x63>"
            ],
            "image/png": "[encoded data removed]",
            "image/jpeg": "[encoded data removed]"
          },
          "metadata": {}
        },
        {
          "output_type": "stream",
          "name": "stdout",
          "text": [
            "44.19047619047619\n"
          ]
        },
        {
          "output_type": "display_data",
          "data": {
            "text/plain": [
              "<PIL.Image.Image image mode=L size=125x63>"
            ],
            "image/png": "[encoded data removed]",
            "image/jpeg": "[encoded data removed]"
          },
          "metadata": {}
        },
        {
          "output_type": "stream",
          "name": "stdout",
          "text": [
            "39.42857142857143\n"
          ]
        },
        {
          "output_type": "display_data",
          "data": {
            "text/plain": [
              "<PIL.Image.Image image mode=L size=125x63>"
            ],
            "image/png": "[encoded data removed]",
            "image/jpeg": "[encoded data removed]"
          },
          "metadata": {}
        },
        {
          "output_type": "stream",
          "name": "stdout",
          "text": [
            "40.08888888888889\n"
          ]
        },
        {
          "output_type": "display_data",
          "data": {
            "text/plain": [
              "<PIL.Image.Image image mode=L size=125x63>"
            ],
            "image/png": "[encoded data removed]",
            "image/jpeg": "[encoded data removed]"
          },
          "metadata": {}
        },
        {
          "output_type": "stream",
          "name": "stdout",
          "text": [
            "41.16825396825397\n"
          ]
        },
        {
          "output_type": "display_data",
          "data": {
            "text/plain": [
              "<PIL.Image.Image image mode=L size=125x63>"
            ],
            "image/png": "[encoded data removed]",
            "image/jpeg": "[encoded data removed]"
          },
          "metadata": {}
        },
        {
          "output_type": "stream",
          "name": "stdout",
          "text": [
            "45.663492063492065\n"
          ]
        },
        {
          "output_type": "display_data",
          "data": {
            "text/plain": [
              "<PIL.Image.Image image mode=L size=125x63>"
            ],
            "image/png": "[encoded data removed]",
            "image/jpeg": "[encoded data removed]"
          },
          "metadata": {}
        },
        {
          "output_type": "stream",
          "name": "stdout",
          "text": [
            "0.0\n"
          ]
        },
        {
          "output_type": "display_data",
          "data": {
            "text/plain": [
              "<PIL.Image.Image image mode=L size=125x63>"
            ],
            "image/png": "[encoded data removed]",
            "image/jpeg": "[encoded data removed]"
          },
          "metadata": {}
        },
        {
          "output_type": "stream",
          "name": "stdout",
          "text": [
            "42.32380952380952\n"
          ]
        },
        {
          "output_type": "display_data",
          "data": {
            "text/plain": [
              "<PIL.Image.Image image mode=L size=125x63>"
            ],
            "image/png": "[encoded data removed]",
            "image/jpeg": "[encoded data removed]"
          },
          "metadata": {}
        },
        {
          "output_type": "stream",
          "name": "stdout",
          "text": [
            "40.86349206349206\n"
          ]
        },
        {
          "output_type": "display_data",
          "data": {
            "text/plain": [
              "<PIL.Image.Image image mode=L size=125x63>"
            ],
            "image/png": "[encoded data removed]",
            "image/jpeg": "[encoded data removed]"
          },
          "metadata": {}
        },
        {
          "output_type": "stream",
          "name": "stdout",
          "text": [
            "43.39047619047619\n"
          ]
        },
        {
          "output_type": "display_data",
          "data": {
            "text/plain": [
              "<PIL.Image.Image image mode=L size=125x63>"
            ],
            "image/png": "[encoded data removed]",
            "image/jpeg": "[encoded data removed]"
          },
          "metadata": {}
        },
        {
          "output_type": "stream",
          "name": "stdout",
          "text": [
            "42.53968253968254\n"
          ]
        },
        {
          "output_type": "display_data",
          "data": {
            "text/plain": [
              "<PIL.Image.Image image mode=L size=125x63>"
            ],
            "image/png": "[encoded data removed]",
            "image/jpeg": "[encoded data removed]"
          },
          "metadata": {}
        },
        {
          "output_type": "stream",
          "name": "stdout",
          "text": [
            "40.36825396825397\n"
          ]
        },
        {
          "output_type": "display_data",
          "data": {
            "text/plain": [
              "<PIL.Image.Image image mode=L size=125x63>"
            ],
            "image/png": "[encoded data removed]",
            "image/jpeg": "[encoded data removed]"
          },
          "metadata": {}
        },
        {
          "output_type": "stream",
          "name": "stdout",
          "text": [
            "40.87619047619048\n"
          ]
        },
        {
          "output_type": "display_data",
          "data": {
            "text/plain": [
              "<PIL.Image.Image image mode=L size=125x63>"
            ],
            "image/png": "[encoded data removed]",
            "image/jpeg": "[encoded data removed]"
          },
          "metadata": {}
        },
        {
          "output_type": "stream",
          "name": "stdout",
          "text": [
            "42.66666666666667\n"
          ]
        },
        {
          "output_type": "display_data",
          "data": {
            "text/plain": [
              "<PIL.Image.Image image mode=L size=125x63>"
            ],
            "image/png": "[encoded data removed]",
            "image/jpeg": "[encoded data removed]"
          },
          "metadata": {}
        },
        {
          "output_type": "stream",
          "name": "stdout",
          "text": [
            "41.37142857142857\n"
          ]
        },
        {
          "output_type": "display_data",
          "data": {
            "text/plain": [
              "<PIL.Image.Image image mode=L size=125x63>"
            ],
            "image/png": "[encoded data removed]",
            "image/jpeg": "[encoded data removed]"
          },
          "metadata": {}
        },
        {
          "output_type": "stream",
          "name": "stdout",
          "text": [
            "44.266666666666666\n"
          ]
        },
        {
          "output_type": "display_data",
          "data": {
            "text/plain": [
              "<PIL.Image.Image image mode=L size=125x63>"
            ],
            "image/png": "[encoded data removed]",
            "image/jpeg": "[encoded data removed]"
          },
          "metadata": {}
        },
        {
          "output_type": "stream",
          "name": "stdout",
          "text": [
            "43.50476190476191\n"
          ]
        },
        {
          "output_type": "display_data",
          "data": {
            "text/plain": [
              "<PIL.Image.Image image mode=L size=125x63>"
            ],
            "image/png": "[encoded data removed]",
            "image/jpeg": "[encoded data removed]"
          },
          "metadata": {}
        },
        {
          "output_type": "stream",
          "name": "stdout",
          "text": [
            "43.91111111111111\n"
          ]
        },
        {
          "output_type": "display_data",
          "data": {
            "text/plain": [
              "<PIL.Image.Image image mode=L size=125x63>"
            ],
            "image/png": "[encoded data removed]",
            "image/jpeg": "[encoded data removed]"
          },
          "metadata": {}
        },
        {
          "output_type": "stream",
          "name": "stdout",
          "text": [
            "43.885714285714286\n"
          ]
        },
        {
          "output_type": "display_data",
          "data": {
            "text/plain": [
              "<PIL.Image.Image image mode=L size=125x63>"
            ],
            "image/png": "[encoded data removed]",
            "image/jpeg": "[encoded data removed]"
          },
          "metadata": {}
        },
        {
          "output_type": "stream",
          "name": "stdout",
          "text": [
            "42.47619047619048\n"
          ]
        },
        {
          "output_type": "display_data",
          "data": {
            "text/plain": [
              "<PIL.Image.Image image mode=L size=125x63>"
            ],
            "image/png": "[encoded data removed]",
            "image/jpeg": "[encoded data removed]"
          },
          "metadata": {}
        },
        {
          "output_type": "stream",
          "name": "stdout",
          "text": [
            "29.473015873015875\n"
          ]
        },
        {
          "output_type": "display_data",
          "data": {
            "text/plain": [
              "<PIL.Image.Image image mode=L size=125x63>"
            ],
            "image/png": "[encoded data removed]",
            "image/jpeg": "[encoded data removed]"
          },
          "metadata": {}
        },
        {
          "output_type": "stream",
          "name": "stdout",
          "text": [
            "41.20634920634921\n"
          ]
        },
        {
          "output_type": "display_data",
          "data": {
            "text/plain": [
              "<PIL.Image.Image image mode=L size=125x63>"
            ],
            "image/png": "[encoded data removed]",
            "image/jpeg": "[encoded data removed]"
          },
          "metadata": {}
        },
        {
          "output_type": "stream",
          "name": "stdout",
          "text": [
            "41.2952380952381\n"
          ]
        },
        {
          "output_type": "display_data",
          "data": {
            "text/plain": [
              "<PIL.Image.Image image mode=L size=125x63>"
            ],
            "image/png": "[encoded data removed]",
            "image/jpeg": "[encoded data removed]"
          },
          "metadata": {}
        },
        {
          "output_type": "stream",
          "name": "stdout",
          "text": [
            "42.13333333333333\n"
          ]
        },
        {
          "output_type": "display_data",
          "data": {
            "text/plain": [
              "<PIL.Image.Image image mode=L size=125x63>"
            ],
            "image/png": "[encoded data removed]",
            "image/jpeg": "[encoded data removed]"
          },
          "metadata": {}
        },
        {
          "output_type": "stream",
          "name": "stdout",
          "text": [
            "42.7936507936508\n"
          ]
        },
        {
          "output_type": "display_data",
          "data": {
            "text/plain": [
              "<PIL.Image.Image image mode=L size=125x63>"
            ],
            "image/png": "[encoded data removed]",
            "image/jpeg": "[encoded data removed]"
          },
          "metadata": {}
        },
        {
          "output_type": "stream",
          "name": "stdout",
          "text": [
            "23.61904761904762\n"
          ]
        },
        {
          "output_type": "display_data",
          "data": {
            "text/plain": [
              "<PIL.Image.Image image mode=L size=125x63>"
            ],
            "image/png": "[encoded data removed]",
            "image/jpeg": "[encoded data removed]"
          },
          "metadata": {}
        },
        {
          "output_type": "stream",
          "name": "stdout",
          "text": [
            "41.2952380952381\n"
          ]
        },
        {
          "output_type": "display_data",
          "data": {
            "text/plain": [
              "<PIL.Image.Image image mode=L size=125x63>"
            ],
            "image/png": "[encoded data removed]",
            "image/jpeg": "[encoded data removed]"
          },
          "metadata": {}
        },
        {
          "output_type": "stream",
          "name": "stdout",
          "text": [
            "43.50476190476191\n"
          ]
        },
        {
          "output_type": "display_data",
          "data": {
            "text/plain": [
              "<PIL.Image.Image image mode=L size=125x63>"
            ],
            "image/png": "[encoded data removed]",
            "image/jpeg": "[encoded data removed]"
          },
          "metadata": {}
        },
        {
          "output_type": "stream",
          "name": "stdout",
          "text": [
            "43.84761904761905\n"
          ]
        },
        {
          "output_type": "display_data",
          "data": {
            "text/plain": [
              "<PIL.Image.Image image mode=L size=125x63>"
            ],
            "image/png": "[encoded data removed]",
            "image/jpeg": "[encoded data removed]"
          },
          "metadata": {}
        },
        {
          "output_type": "stream",
          "name": "stdout",
          "text": [
            "46.679365079365084\n",
            "\n",
            "--- Résultats de l'analyse ---\n",
            "image048.jpg: Cap Missing\n",
            "image133.jpg: No bottle\n",
            "image035.jpg: Cap Present\n",
            "image060.jpg: Cap Present\n",
            "image013.jpg: Cap Missing\n",
            "image017.jpg: Cap Present\n",
            "image027.jpg: Cap Present\n",
            "image050.jpg: Cap Present\n",
            "image073.jpg: Cap Present\n",
            "image076.jpg: Cap Present\n",
            "image134.jpg: Cap Present\n",
            "image108.jpg: Cap Present\n",
            "image004.jpg: Cap Present\n",
            "image130.jpg: Cap Present\n",
            "image099.jpg: Cap Present\n",
            "image055.jpg: Cap Present\n",
            "image098.jpg: Cap Present\n",
            "image024.jpg: Cap Present\n",
            "image125.jpg: Cap Present\n",
            "image086.jpg: Cap Missing\n",
            "image083.jpg: Cap Missing\n",
            "image084.jpg: Cap Present\n",
            "image117.jpg: Cap Present\n",
            "image071.jpg: Cap Present\n",
            "image111.jpg: Cap Present\n",
            "image059.jpg: Cap Present\n",
            "image091.jpg: Cap Present\n",
            "image053.jpg: Cap Present\n",
            "image014.jpg: Cap Present\n",
            "image132.jpg: Cap Present\n",
            "image074.jpg: Cap Present\n",
            "image082.jpg: Cap Present\n",
            "image101.jpg: Cap Present\n",
            "image038.jpg: Cap Present\n",
            "image003.jpg: Cap Present\n",
            "image119.jpg: No bottle\n",
            "image097.jpg: Cap Present\n",
            "image031.jpg: Cap Present\n",
            "image081.jpg: Cap Present\n",
            "image056.jpg: Cap Present\n",
            "image072.jpg: Cap Present\n",
            "image039.jpg: Cap Present\n",
            "image047.jpg: No bottle\n",
            "image069.jpg: No bottle\n",
            "image137.jpg: Cap Present\n",
            "image087.jpg: Cap Present\n",
            "image061.jpg: Cap Present\n",
            "image100.jpg: Cap Present\n",
            "image139.jpg: Cap Missing\n",
            "image015.jpg: Cap Present\n",
            "image141.jpg: Cap Present\n",
            "image095.jpg: Cap Present\n",
            "image051.jpg: Cap Present\n",
            "image092.jpg: Cap Present\n",
            "image136.jpg: Cap Present\n",
            "image104.jpg: Cap Present\n",
            "image009.jpg: Cap Present\n",
            "image007.jpg: Cap Present\n",
            "image052.jpg: Cap Present\n",
            "image124.jpg: Cap Present\n",
            "image089.jpg: No bottle\n",
            "image090.jpg: Cap Present\n",
            "image022.jpg: Cap Present\n",
            "image020.jpg: Cap Present\n",
            "image112.jpg: Cap Present\n",
            "image045.jpg: No bottle\n",
            "image140.jpg: Cap Present\n",
            "image079.jpg: Cap Present\n",
            "image068.jpg: Cap Present\n",
            "image113.jpg: Cap Present\n",
            "image116.jpg: No bottle\n",
            "image129.jpg: Cap Present\n",
            "image025.jpg: No bottle\n",
            "image114.jpg: Cap Present\n",
            "image012.jpg: Cap Present\n",
            "image046.jpg: Cap Missing\n",
            "image094.jpg: Cap Present\n",
            "image011.jpg: Cap Present\n",
            "image075.jpg: Cap Present\n",
            "image023.jpg: Cap Missing\n",
            "image107.jpg: Cap Present\n",
            "image065.jpg: Cap Missing\n",
            "image126.jpg: Cap Present\n",
            "image028.jpg: Cap Present\n",
            "image127.jpg: Cap Present\n",
            "image063.jpg: Cap Present\n",
            "image033.jpg: Cap Present\n",
            "image058.jpg: Cap Present\n",
            "image010.jpg: Cap Missing\n",
            "image120.jpg: No bottle\n",
            "image062.jpg: Cap Present\n",
            "image070.jpg: Cap Present\n",
            "image128.jpg: Cap Present\n",
            "image106.jpg: Cap Present\n",
            "image131.jpg: Cap Present\n",
            "image067.jpg: Cap Present\n",
            "image002.jpg: Cap Present\n",
            "image049.jpg: Cap Present\n",
            "image030.jpg: Cap Missing\n",
            "image041.jpg: Cap Present\n",
            "image080.jpg: Cap Present\n",
            "image115.jpg: Cap Present\n",
            "image006.jpg: Cap Missing\n",
            "image122.jpg: No bottle\n",
            "image054.jpg: Cap Missing\n",
            "image018.jpg: No bottle\n",
            "image085.jpg: Cap Present\n",
            "image077.jpg: Cap Missing\n",
            "image121.jpg: Cap Present\n",
            "image093.jpg: Cap Present\n",
            "image016.jpg: Cap Present\n",
            "image088.jpg: Cap Present\n",
            "image005.jpg: Cap Present\n",
            "image032.jpg: Cap Present\n",
            "image057.jpg: Cap Present\n",
            "image096.jpg: Cap Present\n",
            "image042.jpg: Cap Present\n",
            "image105.jpg: No bottle\n",
            "image110.jpg: Cap Present\n",
            "image040.jpg: Cap Present\n",
            "image064.jpg: Cap Present\n",
            "image138.jpg: Cap Present\n",
            "image135.jpg: Cap Present\n",
            "image019.jpg: Cap Present\n",
            "image026.jpg: Cap Present\n",
            "image036.jpg: Cap Present\n",
            "image103.jpg: Cap Present\n",
            "image043.jpg: Cap Present\n",
            "image066.jpg: Cap Present\n",
            "image021.jpg: Cap Present\n",
            "image123.jpg: Cap Present\n",
            "image008.jpg: Cap Missing\n",
            "image078.jpg: Cap Present\n",
            "image001.jpg: Cap Present\n",
            "image037.jpg: Cap Present\n",
            "image034.jpg: Cap Present\n",
            "image109.jpg: Cap Missing\n",
            "image044.jpg: Cap Present\n",
            "image029.jpg: Cap Present\n",
            "image118.jpg: Cap Present\n",
            "image102.jpg: Cap Present\n"
          ]
        }
      ]
    },
    {
      "cell_type": "markdown",
      "source": [
        "---\n",
        "\n",
        "# Reconaissance de déformation\n",
        "\n",
        "\n"
      ],
      "metadata": {
        "id": "US_ppumJQvvr"
      }
    },
    {
      "cell_type": "code",
      "source": [
        "def check_if_deformed(image):\n",
        "\n",
        "    x1, y1 = 100, 190  # Left-up corner\n",
        "    x2, y2 = 260, 280  # Right-down corner\n",
        "\n",
        "    # Crop the image\n",
        "    cropped_image = image[y1:y2, x1:x2]\n",
        "\n",
        "    # Extract the red channel\n",
        "    imred = cropped_image[:, :, 2]\n",
        "\n",
        "    # Threshold the red channel to create a binary image\n",
        "    _, labelbinred = cv2.threshold(imred, 177, 255, cv2.THRESH_BINARY)\n",
        "\n",
        "    # Calculate the percentage of black pixels\n",
        "    black_pixels = np.sum(labelbinred == 0)\n",
        "    total_pixels = labelbinred.size\n",
        "    percentage = 100 * (black_pixels / total_pixels)\n",
        "\n",
        "    if percentage > 80:\n",
        "        # Convert to grayscale and binarize\n",
        "        mask = cv2.cvtColor(cropped_image, cv2.COLOR_BGR2GRAY)\n",
        "        _, labelbingrayscaled = cv2.threshold(mask, 80, 255, cv2.THRESH_BINARY)\n",
        "\n",
        "        # Define a structure for 4-connectivity\n",
        "        structure = np.array([[0, 1, 0],\n",
        "                              [1, 1, 1],\n",
        "                              [0, 1, 0]])\n",
        "\n",
        "        labeled_array, num_features = label(labelbingrayscaled, structure=structure)\n",
        "\n",
        "    else:\n",
        "        # Define a structure for 4-connectivity\n",
        "        structure = np.array([[0, 1, 0],\n",
        "                              [1, 1, 1],\n",
        "                              [0, 1, 0]])\n",
        "\n",
        "        labeled_array, num_features = label(labelbinred, structure=structure)\n",
        "\n",
        "    # Extract bounding boxes and calculate the largest area\n",
        "    properties = regionprops(labeled_array)\n",
        "\n",
        "    max_area = 0\n",
        "    aspect_ratio = 0\n",
        "    circularity = 0\n",
        "    solidity = 0\n",
        "    excentricity = 0\n",
        "    equivalent_diameter = 0\n",
        "\n",
        "    for prop in properties:\n",
        "        min_row, min_col, max_row, max_col = prop.bbox\n",
        "        width = max_col - min_col\n",
        "        height = max_row - min_row\n",
        "        area = width * height\n",
        "\n",
        "        if area > max_area:\n",
        "            max_area = area\n",
        "            aspect_ratio = width / height\n",
        "            perimeter = prop.perimeter if prop.perimeter > 0 else 1  # Avoid division by zero\n",
        "            circularity = (4 * np.pi * area) / (perimeter ** 2)\n",
        "            solidity = prop.solidity\n",
        "            excentricity = prop.eccentricity\n",
        "            equivalent_diameter = prop.equivalent_diameter\n",
        "\n",
        "    average_score = (max_area + aspect_ratio + circularity + solidity + excentricity + equivalent_diameter) / 6\n",
        "\n",
        "    # Determine if the bottle is deformed\n",
        "    has_label = percentage <= 80\n",
        "    is_deformed = average_score > 1000 and average_score < 1744\n",
        "\n",
        "    return is_deformed and has_label\n",
        "\n",
        "def list_deformed_images(folder_path):\n",
        "    deformed_images = []\n",
        "\n",
        "    for filename in os.listdir(folder_path):\n",
        "        filepath = os.path.join(folder_path, filename)\n",
        "        if filepath.lower().endswith(('png', 'jpg', 'jpeg', 'bmp')):\n",
        "            image = cv2.imread(filepath)\n",
        "            if check_if_deformed(image):\n",
        "                deformed_images.append(filename)\n",
        "\n",
        "    return deformed_images\n",
        "\n",
        "# List deformed images\n",
        "deformed_images = list_deformed_images(folder_path)\n",
        "print(\"Images déformées avec étiquette :\")\n",
        "for img in deformed_images:\n",
        "    print(img)"
      ],
      "metadata": {
        "id": "Eq4RgVg5SbvX",
        "colab": {
          "base_uri": "https://localhost:8080/"
        },
        "outputId": "57a22692-923e-4bf7-f451-feb17d201f1e"
      },
      "execution_count": 5,
      "outputs": [
        {
          "output_type": "stream",
          "name": "stdout",
          "text": [
            "Images déformées avec étiquette :\n",
            "image039.jpg\n",
            "image137.jpg\n",
            "image061.jpg\n",
            "image136.jpg\n",
            "image052.jpg\n",
            "image062.jpg\n",
            "image049.jpg\n",
            "image006.jpg\n",
            "image077.jpg\n",
            "image032.jpg\n",
            "image040.jpg\n"
          ]
        }
      ]
    },
    {
      "cell_type": "code",
      "source": [
        "\n",
        "def calculate_properties(image):\n",
        "    x1, y1 = 100, 190  # Left-up corner\n",
        "    x2, y2 = 260, 280  # Right-down corner\n",
        "\n",
        "    # Crop the image\n",
        "    cropped_image = image[y1:y2, x1:x2]\n",
        "\n",
        "    # Extract the red channel\n",
        "    imred = cropped_image[:, :, 2]\n",
        "\n",
        "    # Threshold the red channel to create a binary image\n",
        "    _, labelbinred = cv2.threshold(imred, 177, 255, cv2.THRESH_BINARY)\n",
        "\n",
        "    # Calculate the percentage of black pixels\n",
        "    black_pixels = np.sum(labelbinred == 0)\n",
        "    total_pixels = labelbinred.size\n",
        "    percentage = 100 * (black_pixels / total_pixels)\n",
        "\n",
        "    if percentage > 80:\n",
        "        # Convert to grayscale and binarize\n",
        "        mask = cv2.cvtColor(cropped_image, cv2.COLOR_BGR2GRAY)\n",
        "        _, labelbingrayscaled = cv2.threshold(mask, 80, 255, cv2.THRESH_BINARY)\n",
        "\n",
        "        # Define a structure for 4-connectivity\n",
        "        structure = np.array([[0, 1, 0],\n",
        "                              [1, 1, 1],\n",
        "                              [0, 1, 0]])\n",
        "\n",
        "        labeled_array, num_features = label(labelbingrayscaled, structure=structure)\n",
        "\n",
        "    else:\n",
        "        # Define a structure for 4-connectivity\n",
        "        structure = np.array([[0, 1, 0],\n",
        "                              [1, 1, 1],\n",
        "                              [0, 1, 0]])\n",
        "\n",
        "        labeled_array, num_features = label(labelbinred, structure=structure)\n",
        "\n",
        "    # Extract properties from components\n",
        "    properties = regionprops(labeled_array)\n",
        "\n",
        "    max_area = 0\n",
        "    aspect_ratio = 0\n",
        "    circularity = 0\n",
        "    solidity = 0\n",
        "    excentricity = 0\n",
        "    equivalent_diameter = 0\n",
        "\n",
        "    for prop in properties:\n",
        "        min_row, min_col, max_row, max_col = prop.bbox\n",
        "        width = max_col - min_col\n",
        "        height = max_row - min_row\n",
        "        area = width * height\n",
        "\n",
        "        if area > max_area:\n",
        "            max_area = area\n",
        "            aspect_ratio = width / height\n",
        "            perimeter = prop.perimeter if prop.perimeter > 0 else 1  # Avoid division by zero\n",
        "            circularity = (4 * np.pi * area) / (perimeter ** 2)\n",
        "            solidity = prop.solidity\n",
        "            excentricity = prop.eccentricity\n",
        "            equivalent_diameter = prop.equivalent_diameter\n",
        "\n",
        "    average_score = (max_area + aspect_ratio + circularity + solidity + excentricity + equivalent_diameter) / 6\n",
        "\n",
        "    passed_criteria = sum([\n",
        "        max_area > 9000,\n",
        "        aspect_ratio > 1.1,\n",
        "        circularity > 0.3,\n",
        "        solidity > 0.8,\n",
        "        excentricity < 0.9,\n",
        "        equivalent_diameter > 50\n",
        "    ])\n",
        "\n",
        "    return max_area, aspect_ratio, circularity, solidity, excentricity, equivalent_diameter, average_score, passed_criteria\n",
        "\n",
        "def process_and_plot(folder1, folder2):\n",
        "    folder1_properties = []\n",
        "    folder2_properties = []\n",
        "\n",
        "    # Process images in folder1\n",
        "    for filename in os.listdir(folder1):\n",
        "        filepath = os.path.join(folder1, filename)\n",
        "        if filepath.lower().endswith(('png', 'jpg', 'jpeg', 'bmp')):\n",
        "            image = cv2.imread(filepath)\n",
        "            folder1_properties.append(calculate_properties(image))\n",
        "\n",
        "    # Process images in folder2\n",
        "    for filename in os.listdir(folder2):\n",
        "        filepath = os.path.join(folder2, filename)\n",
        "        if filepath.lower().endswith(('png', 'jpg', 'jpeg', 'bmp')):\n",
        "            image = cv2.imread(filepath)\n",
        "            folder2_properties.append(calculate_properties(image))\n",
        "\n",
        "    # Separate properties for plotting\n",
        "    folder1_areas, folder1_aspects, folder1_circularities, folder1_solidities, folder1_excentricities, folder1_diameters, folder1_scores, folder1_criteria = zip(*folder1_properties)\n",
        "    folder2_areas, folder2_aspects, folder2_circularities, folder2_solidities, folder2_excentricities, folder2_diameters, folder2_scores, folder2_criteria = zip(*folder2_properties)\n",
        "\n",
        "    # Plot each property in separate windows\n",
        "\n",
        "    # Average Scores\n",
        "    plt.figure()\n",
        "    plt.scatter(range(len(folder1_scores)), folder1_scores, label=\"Folder 1\", marker='o', alpha=0.7)\n",
        "    plt.scatter(range(len(folder2_scores)), folder2_scores, label=\"Folder 2\", marker='s', alpha=0.7)\n",
        "    plt.title(\"Average Scores\")\n",
        "    plt.xlabel(\"Image Index\")\n",
        "    plt.ylabel(\"Average Score\")\n",
        "    plt.legend()\n",
        "    plt.grid()\n",
        "    plt.show()\n",
        "\n",
        "    # Passed Criteria\n",
        "    plt.figure()\n",
        "    plt.scatter(range(len(folder1_criteria)), folder1_criteria, label=\"Folder 1\", marker='o', alpha=0.7)\n",
        "    plt.scatter(range(len(folder2_criteria)), folder2_criteria, label=\"Folder 2\", marker='s', alpha=0.7)\n",
        "    plt.title(\"Number of Passed Criteria\")\n",
        "    plt.xlabel(\"Image Index\")\n",
        "    plt.ylabel(\"Passed Criteria\")\n",
        "    plt.legend()\n",
        "    plt.grid()\n",
        "    plt.show()\n",
        "\n",
        "# Run the function\n",
        "process_and_plot(folder_deformed, folder_not_deformed)"
      ],
      "metadata": {
        "id": "FPT81en4RpKC",
        "colab": {
          "base_uri": "https://localhost:8080/",
          "height": 927
        },
        "outputId": "e83df26c-3a6e-4e5d-92e8-1ad453288470"
      },
      "execution_count": 6,
      "outputs": [
        {
          "output_type": "display_data",
          "data": {
            "text/plain": [
              "<Figure size 640x480 with 1 Axes>"
            ],
            "image/png": "[encoded data removed]"
          },
          "metadata": {}
        },
        {
          "output_type": "display_data",
          "data": {
            "text/plain": [
              "<Figure size 640x480 with 1 Axes>"
            ],
            "image/png": "[encoded data removed]"
          },
          "metadata": {}
        }
      ]
    }
  ]
}